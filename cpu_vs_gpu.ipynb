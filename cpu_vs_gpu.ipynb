{
  "nbformat": 4,
  "nbformat_minor": 0,
  "metadata": {
    "colab": {
      "provenance": [],
      "authorship_tag": "ABX9TyMs1raQ4NUGFokcT6nxwdXm",
      "include_colab_link": true
    },
    "kernelspec": {
      "name": "python3",
      "display_name": "Python 3"
    },
    "language_info": {
      "name": "python"
    },
    "accelerator": "GPU",
    "gpuClass": "standard"
  },
  "cells": [
    {
      "cell_type": "markdown",
      "metadata": {
        "id": "view-in-github",
        "colab_type": "text"
      },
      "source": [
        "<a href=\"https://colab.research.google.com/github/SathishRama/parallelization_tests/blob/main/cpu_vs_gpu.ipynb\" target=\"_parent\"><img src=\"https://colab.research.google.com/assets/colab-badge.svg\" alt=\"Open In Colab\"/></a>"
      ]
    },
    {
      "cell_type": "code",
      "execution_count": 24,
      "metadata": {
        "id": "Hxg_rJcYdvBQ"
      },
      "outputs": [],
      "source": [
        "import pandas as pd\n",
        "import timeit\n",
        "import tensorflow as tf"
      ]
    },
    {
      "cell_type": "code",
      "source": [
        "#file_name = \"sample_data/dataset_10M_rows.csv\"\n",
        "file_name = \"sample_data/card_payments.csv\"  # 500 rows \n",
        "#file_name1 = \"sample_data/dataset_100K_rows.csv\"\n",
        "file_name1 = \"sample_data/dataset_1M_rows.csv\"    # 1.2m rows"
      ],
      "metadata": {
        "id": "-o5Isub0lVwl"
      },
      "execution_count": 80,
      "outputs": []
    },
    {
      "cell_type": "code",
      "source": [
        "tf.debugging.set_log_device_placement(False)"
      ],
      "metadata": {
        "id": "W0vjWe8jB9oD"
      },
      "execution_count": 81,
      "outputs": []
    },
    {
      "cell_type": "code",
      "source": [
        "num_gpus = len(tf.config.list_physical_devices('GPU'))\n",
        "num_cpus = len(tf.config.list_physical_devices('CPU'))\n",
        "print(f\"Number of cpu's:{num_cpus} gpu's:{num_gpus} in the runtime.\")"
      ],
      "metadata": {
        "colab": {
          "base_uri": "https://localhost:8080/"
        },
        "id": "FE6Gf5g6IMa7",
        "outputId": "1bbab0a2-aab0-46fd-8d18-cc33b0958d16"
      },
      "execution_count": 116,
      "outputs": [
        {
          "output_type": "stream",
          "name": "stdout",
          "text": [
            "Number of cpu's:1 gpu's:1 in the runtime.\n"
          ]
        }
      ]
    },
    {
      "cell_type": "code",
      "source": [
        "# CPU : Python Looping code Test on pre-loaded tf ( i.e time to load the dataset is excluded)\n",
        "percent_util = []\n",
        "file = open(file_name)\n",
        "next(file)\n",
        "num_rows_python = len(file.readlines())\n",
        "def python_calc():\n",
        "    for line in file:\n",
        "        line = line.split(\",\")\n",
        "        percent_util.append(float(line[3]) * float(line[1]))\n",
        "    res = sum(percent_util)\n",
        "num_executions_python = 2424\n",
        "total_time_looping = round(timeit.timeit(python_calc, number=num_executions_python),3)\n",
        "print(f\"Total Time using python looping code:{total_time_looping} for {num_executions_python} iterations with {num_rows_python} rows in each iteration\")"
      ],
      "metadata": {
        "colab": {
          "base_uri": "https://localhost:8080/"
        },
        "id": "uBN_4HUKTgz0",
        "outputId": "49b1700e-1fa8-44ab-c437-d36fef4ef876"
      },
      "execution_count": 124,
      "outputs": [
        {
          "output_type": "stream",
          "name": "stdout",
          "text": [
            "Total Time using python looping code:0.009 for 2424 iterations with 490 rows in each iteration\n"
          ]
        }
      ]
    },
    {
      "cell_type": "code",
      "source": [
        "#load the file1 with 1.2m rows\n",
        "df_1m = pd.read_csv(file_name1)\n",
        "df_1m = df_1m.drop(columns = ['card_id','bill_date'])\n",
        "#df.head()\n",
        "df_1m = df_1m.astype('float')\n",
        "#convert the pandas df to tf \n",
        "my_tf_1m = tf.convert_to_tensor(df_1m)\n",
        "num_rows_1m = my_tf_1m.shape[0]\n",
        "tf1_1m = tf.reshape(my_tf_1m[:,0],[1,num_rows_1m])\n",
        "tf2_1m = tf.reshape(my_tf_1m[:,1],[num_rows_1m,1])"
      ],
      "metadata": {
        "id": "CNgXZAMiepLW"
      },
      "execution_count": null,
      "outputs": []
    },
    {
      "cell_type": "code",
      "source": [
        "# CPU : Test 1.2M rows using tf multiply\n",
        "def tf_cpu_preloaded():\n",
        "  with tf.device('/CPU:0'):\n",
        "    res = tf.math.reduce_sum(tf.math.multiply(my_tf_1m[:,0], my_tf_1m[:,1]),0)\n",
        "    print(res)\n",
        "    return\n",
        "num_executions = 1\n",
        "total_time = timeit.timeit(tf_cpu_preloaded, number=num_executions)\n",
        "avg_cpu_time = total_time/num_executions\n",
        "print(f\"Avg Time: {avg_cpu_time} for {num_rows_1m}\")"
      ],
      "metadata": {
        "id": "H9h6YFuNl49a",
        "colab": {
          "base_uri": "https://localhost:8080/"
        },
        "outputId": "3c9b8a15-b309-42fa-ee90-a8959f415180"
      },
      "execution_count": 121,
      "outputs": [
        {
          "output_type": "stream",
          "name": "stdout",
          "text": [
            "Executing op StridedSlice in device /job:localhost/replica:0/task:0/device:CPU:0\n",
            "Executing op StridedSlice in device /job:localhost/replica:0/task:0/device:CPU:0\n",
            "Executing op Mul in device /job:localhost/replica:0/task:0/device:CPU:0\n",
            "Executing op Sum in device /job:localhost/replica:0/task:0/device:CPU:0\n",
            "tf.Tensor(1058531308404000.0, shape=(), dtype=float64)\n",
            "Avg Time: 0.03172968699982448 for 1187760\n"
          ]
        }
      ]
    },
    {
      "cell_type": "code",
      "source": [
        "# GPU : Test 1.2M rows using tf matmul. matmul operation kernel has gpu implementation \n",
        "def tf_gpu_preloaded():\n",
        "  with tf.device('/GPU:0'):\n",
        "    res = tf.matmul(tf1_1m,tf2_1m)   \n",
        "    #print(res)\n",
        "    return\n",
        "num_executions = 1\n",
        "total_time = timeit.timeit(tf_gpu_preloaded, number=num_executions)\n",
        "avg_gpu_time = total_time/num_executions\n",
        "print(f\"Avg Time: {avg_gpu_time} for {num_rows_1m}\")"
      ],
      "metadata": {
        "colab": {
          "base_uri": "https://localhost:8080/"
        },
        "id": "5EEduPB_mLAa",
        "outputId": "1cf0171a-a472-41fc-ad61-bef824c801a0"
      },
      "execution_count": 125,
      "outputs": [
        {
          "output_type": "stream",
          "name": "stdout",
          "text": [
            "Executing op MatMul in device /job:localhost/replica:0/task:0/device:GPU:0\n",
            "Avg Time: 0.0029357990006246837 for 1187760\n"
          ]
        }
      ]
    },
    {
      "cell_type": "code",
      "source": [
        "#Summarize Looping vs using vector computation on cpu & gpu\n",
        "print(f\"Number of cpu's:{num_cpus} gpu's:{num_gpus} in the runtime.\")\n",
        "print(f\"Time with Loop logic: {total_time_looping} for {num_executions_python} iterations with {num_rows_python} rows in each iteration. Rows processed {num_executions_python*num_rows_python}\")\n",
        "if num_gpus:\n",
        "  print(f\"GPU time: {avg_gpu_time} for {num_rows_1m} rows\")\n",
        "y = round(total_time_looping/avg_cpu_time,3)\n",
        "print(f\"Using Looping code vs TF CPU : {y} x improvement for {num_rows_1m} rows processed\")  \n",
        "if num_gpus:\n",
        "  x = round(total_time_looping/avg_gpu_time,3)\n",
        "  print(f\"Using Looping code vs TF GPU : {x} x improvement for {num_rows_1m} rows processed\")"
      ],
      "metadata": {
        "colab": {
          "base_uri": "https://localhost:8080/"
        },
        "id": "bX7-8Tnlwur-",
        "outputId": "4921f3a1-bff9-4e5e-e973-4af25ff14663"
      },
      "execution_count": 126,
      "outputs": [
        {
          "output_type": "stream",
          "name": "stdout",
          "text": [
            "Number of cpu's:1 gpu's:1 in the runtime.\n",
            "Time with Loop logic: 0.009 for 2424 iterations with 490 rows in each iteration. Rows processed 1187760\n",
            "GPU time: 0.0029357990006246837 for 1187760 rows\n",
            "Using Looping code vs TF CPU : 0.284 x improvement for 1187760 rows processed\n",
            "Using Looping code vs TF GPU : 3.066 x improvement for 1187760 rows processed\n"
          ]
        }
      ]
    }
  ]
}